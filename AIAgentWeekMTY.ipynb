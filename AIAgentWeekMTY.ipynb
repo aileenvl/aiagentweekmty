{
  "nbformat": 4,
  "nbformat_minor": 0,
  "metadata": {
    "colab": {
      "provenance": [],
      "authorship_tag": "ABX9TyNfhDetvUpx1xFZwz/+yYGk",
      "include_colab_link": true
    },
    "kernelspec": {
      "name": "python3",
      "display_name": "Python 3"
    },
    "language_info": {
      "name": "python"
    }
  },
  "cells": [
    {
      "cell_type": "markdown",
      "metadata": {
        "id": "view-in-github",
        "colab_type": "text"
      },
      "source": [
        "<a href=\"https://colab.research.google.com/github/aileenvl/aiagentweekmty/blob/main/AIAgentWeekMTY.ipynb\" target=\"_parent\"><img src=\"https://colab.research.google.com/assets/colab-badge.svg\" alt=\"Open In Colab\"/></a>"
      ]
    },
    {
      "cell_type": "markdown",
      "source": [
        "# L2: Create Agents to Research and Write an Article\n",
        "In this lesson, you will be introduced to the foundational concepts of multi-agent systems and get an overview of the crewAI framework."
      ],
      "metadata": {
        "id": "_sP0W4mnAq2v"
      }
    },
    {
      "cell_type": "markdown",
      "source": [
        "The libraries are already installed in the classroom. If you're running this notebook on your own machine, you can install the following:"
      ],
      "metadata": {
        "id": "cAVZZJkUAwLU"
      }
    },
    {
      "cell_type": "code",
      "source": [
        "!pip install crewai==0.28.8 crewai_tools==0.1.6 langchain_community==0.0.29"
      ],
      "metadata": {
        "collapsed": true,
        "id": "kxWB5Tc1Ay4y"
      },
      "execution_count": null,
      "outputs": []
    },
    {
      "cell_type": "code",
      "source": [
        "!pip install requests"
      ],
      "metadata": {
        "collapsed": true,
        "id": "Q-SzbC8YUIrD"
      },
      "execution_count": null,
      "outputs": []
    },
    {
      "cell_type": "code",
      "source": [
        "pip install 'crewai[tools]'"
      ],
      "metadata": {
        "collapsed": true,
        "id": "bbDN1biFXaXh"
      },
      "execution_count": null,
      "outputs": []
    },
    {
      "cell_type": "code",
      "source": [
        "# Warning control\n",
        "import warnings\n",
        "warnings.filterwarnings('ignore')"
      ],
      "metadata": {
        "id": "zMRozGxRA2cr"
      },
      "execution_count": null,
      "outputs": []
    },
    {
      "cell_type": "code",
      "source": [
        "!pip install langchain-google-genai crewai"
      ],
      "metadata": {
        "collapsed": true,
        "id": "24hxnr4xHtqb"
      },
      "execution_count": null,
      "outputs": []
    },
    {
      "cell_type": "markdown",
      "source": [
        "Import from the crewAI libray."
      ],
      "metadata": {
        "id": "odr-JIQRBQxB"
      }
    },
    {
      "cell_type": "code",
      "source": [
        "import os\n",
        "from crewai import Agent, Task, Crew, LLM\n",
        "from langchain.tools import Tool\n",
        "import requests\n",
        "import json\n",
        "\n",
        "# Configurar la API key de Gemini\n",
        "os.environ[\"GEMINI_API_KEY\"] = \"your-api-key\"\n",
        "os.environ[\"DEVTO_API_KEY\"] = \"your-api-key\"\n",
        "\n",
        "# Crear el LLM usando la forma correcta según la documentación\n",
        "llm = LLM(\n",
        "    model=\"gemini/gemini-2.0-flash-exp\",  # Formato correcto con el prefijo \"gemini/\"\n",
        "    temperature=0.7,\n",
        "    api_key=os.environ[\"GEMINI_API_KEY\"]\n",
        ")\n"
      ],
      "metadata": {
        "id": "C_5N-Kf3BXf2"
      },
      "execution_count": null,
      "outputs": []
    },
    {
      "cell_type": "markdown",
      "source": [
        "## Creating Agents\n",
        "\n",
        "- Define your Agents, and provide them a `role`, `goal` and `backstory`.\n",
        "- It has been seen that LLMs perform better when they are role playing."
      ],
      "metadata": {
        "id": "cvdc4kGJBdpY"
      }
    },
    {
      "cell_type": "markdown",
      "source": [
        "### Agent: Planner\n",
        "\n",
        "**Note**: The benefit of using _multiple strings_ :\n",
        "```Python\n",
        "varname = \"line 1 of text\"\n",
        "          \"line 2 of text\"\n",
        "```\n",
        "\n",
        "versus the _triple quote docstring_:\n",
        "```Python\n",
        "varname = \"\"\"line 1 of text\n",
        "             line 2 of text\n",
        "          \"\"\"\n",
        "```\n",
        "is that it can avoid adding those whitespaces and newline characters, making it better formatted to be passed to the LLM."
      ],
      "metadata": {
        "id": "-e9Uhs45BiHN"
      }
    },
    {
      "cell_type": "code",
      "source": [
        "planner = Agent(\n",
        "    role=\"Content Planner\",\n",
        "    goal=\"Plan engaging and factually accurate content on {topic}\",\n",
        "    backstory=\"You're working on planning a blog article \"\n",
        "              \"about the topic: {topic}.\"\n",
        "              \"You collect information that helps the \"\n",
        "              \"audience learn something \"\n",
        "              \"and make informed decisions. \"\n",
        "              \"Your work is the basis for \"\n",
        "              \"the Content Writer to write an article on this topic.\",\n",
        "    allow_delegation=False,\n",
        "    llm=llm,\n",
        "\tverbose=True\n",
        ")"
      ],
      "metadata": {
        "id": "jUSFld98BjdS"
      },
      "execution_count": null,
      "outputs": []
    },
    {
      "cell_type": "markdown",
      "source": [
        "### Agent: Writer"
      ],
      "metadata": {
        "id": "gJWbeC1-Blqq"
      }
    },
    {
      "cell_type": "code",
      "source": [
        "writer = Agent(\n",
        "    role=\"Content Writer\",\n",
        "    goal=\"Write insightful and factually accurate \"\n",
        "         \"opinion piece about the topic: {topic}\",\n",
        "    backstory=\"You're working on a writing \"\n",
        "              \"a new opinion piece about the topic: {topic}. \"\n",
        "              \"You base your writing on the work of \"\n",
        "              \"the Content Planner, who provides an outline \"\n",
        "              \"and relevant context about the topic. \"\n",
        "              \"You follow the main objectives and \"\n",
        "              \"direction of the outline, \"\n",
        "              \"as provide by the Content Planner. \"\n",
        "              \"You also provide objective and impartial insights \"\n",
        "              \"and back them up with information \"\n",
        "              \"provide by the Content Planner. \"\n",
        "              \"You acknowledge in your opinion piece \"\n",
        "              \"when your statements are opinions \"\n",
        "              \"as opposed to objective statements.\",\n",
        "    allow_delegation=False,\n",
        "    llm=llm,\n",
        "    verbose=True\n",
        ")"
      ],
      "metadata": {
        "id": "-Pcm6sPpBomK"
      },
      "execution_count": null,
      "outputs": []
    },
    {
      "cell_type": "markdown",
      "source": [
        "### Agent: Editor"
      ],
      "metadata": {
        "id": "trB91krYBrSA"
      }
    },
    {
      "cell_type": "code",
      "source": [
        "editor = Agent(\n",
        "    role=\"Editor\",\n",
        "    goal=\"Edit a given blog post to align with \"\n",
        "         \"the writing style of the organization. \",\n",
        "    backstory=\"You are an editor who receives a blog post \"\n",
        "              \"from the Content Writer. \"\n",
        "              \"Your goal is to review the blog post \"\n",
        "              \"to ensure that it follows journalistic best practices,\"\n",
        "              \"provides balanced viewpoints \"\n",
        "              \"when providing opinions or assertions, \"\n",
        "              \"and also avoids major controversial topics \"\n",
        "              \"or opinions when possible.\",\n",
        "    allow_delegation=False,\n",
        "    llm=llm,\n",
        "    verbose=True\n",
        ")"
      ],
      "metadata": {
        "id": "FJ4jSP4IBtBM"
      },
      "execution_count": null,
      "outputs": []
    },
    {
      "cell_type": "code",
      "source": [
        "from crewai.tools import BaseTool, tool\n",
        "from pydantic import BaseModel, Field\n",
        "from typing import Type, List, Optional\n",
        "\n",
        "# Input model for the Dev.to publishing tool\n",
        "class DevtoPublishInput(BaseModel):\n",
        "    \"\"\"Input schema for publishing to Dev.to.\"\"\"\n",
        "    title: str = Field(..., description=\"Article title\")\n",
        "    content: str = Field(..., description=\"Content in Markdown format\")\n",
        "    tags: Optional[List[str]] = Field(None, description=\"List of tags (maximum 4)\")\n",
        "    series: Optional[str] = Field(None, description=\"Series name if it's part of one\")\n",
        "    published: bool = Field(False, description=\"True to publish, False for draft\")\n",
        "\n",
        "# Custom tool for publishing to Dev.to\n",
        "class DevtoPublishTool(BaseTool):\n",
        "    name: str = \"publish_to_devto\"\n",
        "    description: str = \"Publishes an article to Dev.to using its API\"\n",
        "    args_schema: Type[BaseModel] = DevtoPublishInput\n",
        "\n",
        "    def _run(\n",
        "        self,\n",
        "        title: str,\n",
        "        content: str,\n",
        "        tags: Optional[List[str]] = None,\n",
        "        series: Optional[str] = None,\n",
        "        published: bool = False\n",
        "    ) -> str:\n",
        "        \"\"\"Publishes an article to Dev.to.\"\"\"\n",
        "        api_key = os.environ.get(\"DEVTO_API_KEY\")\n",
        "        if not api_key:\n",
        "            return \"Error: Dev.to API key not configured. Set up DEVTO_API_KEY.\"\n",
        "\n",
        "        # Prepare article data\n",
        "        article_data = {\n",
        "            \"article\": {\n",
        "                \"title\": title,\n",
        "                \"body_markdown\": content,\n",
        "                \"published\": published\n",
        "            }\n",
        "        }\n",
        "\n",
        "        # Add tags if provided (maximum 4 allowed)\n",
        "        if tags:\n",
        "            if len(tags) > 4:\n",
        "                tags = tags[:4]  # Dev.to allows maximum 4 tags\n",
        "            article_data[\"article\"][\"tags\"] = tags\n",
        "\n",
        "        # Add series if provided\n",
        "        if series:\n",
        "            article_data[\"article\"][\"series\"] = series\n",
        "\n",
        "        # Send request to Dev.to API\n",
        "        headers = {\n",
        "            \"api-key\": api_key,\n",
        "            \"Content-Type\": \"application/json\"\n",
        "        }\n",
        "\n",
        "        try:\n",
        "            response = requests.post(\n",
        "                \"https://dev.to/api/articles\",\n",
        "                json=article_data,\n",
        "                headers=headers\n",
        "            )\n",
        "\n",
        "            if response.status_code not in [200, 201]:\n",
        "                return f\"Error publishing: {response.status_code} - {response.text}\"\n",
        "\n",
        "            result = response.json()\n",
        "            article_url = result.get('url', 'Not available')\n",
        "            return f\"Article {'published' if published else 'saved as draft'} successfully. URL: {article_url}\"\n",
        "        except Exception as e:\n",
        "            return f\"Error connecting to Dev.to API: {str(e)}\"\n",
        "\n",
        "# Alternative using the @tool decorator\n",
        "@tool(\"Publish to Dev.to\")\n",
        "def publish_to_devto_tool(\n",
        "    title: str,\n",
        "    content: str,\n",
        "    tags: Optional[List[str]] = None,\n",
        "    series: Optional[str] = None,\n",
        "    published: bool = False\n",
        ") -> str:\n",
        "    \"\"\"\n",
        "    Publishes an article to Dev.to using its API.\n",
        "\n",
        "    Args:\n",
        "        title: Article title\n",
        "        content: Content in Markdown format\n",
        "        tags: List of tags (maximum 4)\n",
        "        series: Series name if it's part of one\n",
        "        published: True to publish, False for draft\n",
        "    \"\"\"\n",
        "    api_key = os.environ.get(\"DEVTO_API_KEY\")\n",
        "    if not api_key:\n",
        "        return \"Error: Dev.to API key not configured. Set up DEVTO_API_KEY.\"\n",
        "\n",
        "    # Prepare article data\n",
        "    article_data = {\n",
        "        \"article\": {\n",
        "            \"title\": title,\n",
        "            \"body_markdown\": content,\n",
        "            \"published\": published\n",
        "        }\n",
        "    }\n",
        "\n",
        "    # Add tags if provided (maximum 4 allowed)\n",
        "    if tags and len(tags) > 0:\n",
        "        if len(tags) > 4:\n",
        "            tags = tags[:4]  # Dev.to allows maximum 4 tags\n",
        "        article_data[\"article\"][\"tags\"] = tags\n",
        "\n",
        "    # Add series if provided\n",
        "    if series:\n",
        "        article_data[\"article\"][\"series\"] = series\n",
        "\n",
        "    # Send request to Dev.to API\n",
        "    headers = {\n",
        "        \"api-key\": api_key,\n",
        "        \"Content-Type\": \"application/json\"\n",
        "    }\n",
        "\n",
        "    try:\n",
        "        response = requests.post(\n",
        "            \"https://dev.to/api/articles\",\n",
        "            json=article_data,\n",
        "            headers=headers\n",
        "        )\n",
        "\n",
        "        if response.status_code not in [200, 201]:\n",
        "            return f\"Error publishing: {response.status_code} - {response.text}\"\n",
        "\n",
        "        result = response.json()\n",
        "        article_url = result.get('url', 'Not available')\n",
        "        return f\"Article {'published' if published else 'saved as draft'} successfully. URL: {article_url}\"\n",
        "    except Exception as e:\n",
        "        return f\"Error connecting to Dev.to API: {str(e)}\"\n",
        "\n",
        "devto_tool = DevtoPublishTool()"
      ],
      "metadata": {
        "id": "QkGZSYN8U4Du"
      },
      "execution_count": null,
      "outputs": []
    },
    {
      "cell_type": "code",
      "source": [
        "publisher = Agent(\n",
        "    role=\"Dev.to Publisher\",\n",
        "    goal=\"Format and publish technical articles on Dev.to\",\n",
        "    backstory=\"You're a technical content strategist specializing in developer-focused content. You know how to format and optimize articles for the Dev.to platform to maximize engagement and visibility in the developer community.\",\n",
        "    llm=llm,\n",
        "    verbose=True,\n",
        "    tools=[devto_tool]\n",
        ")"
      ],
      "metadata": {
        "id": "1TZREjJVTCQ9"
      },
      "execution_count": null,
      "outputs": []
    },
    {
      "cell_type": "markdown",
      "source": [
        "## Creating Tasks\n",
        "\n",
        "- Define your Tasks, and provide them a `description`, `expected_output` and `agent`."
      ],
      "metadata": {
        "id": "3KA6Vee3BvML"
      }
    },
    {
      "cell_type": "markdown",
      "source": [
        "### Task: Plan\n"
      ],
      "metadata": {
        "id": "b21Is2j8I58W"
      }
    },
    {
      "cell_type": "markdown",
      "source": [],
      "metadata": {
        "id": "YdvT1BoRI1Zi"
      }
    },
    {
      "cell_type": "code",
      "source": [
        "plan = Task(\n",
        "    description=(\n",
        "        \"1. Prioritize the latest trends, key players, \"\n",
        "            \"and noteworthy news on {topic}.\\n\"\n",
        "        \"2. Identify the target audience, considering \"\n",
        "            \"their interests and pain points.\\n\"\n",
        "        \"3. Develop a detailed content outline including \"\n",
        "            \"an introduction, key points, and a call to action.\\n\"\n",
        "        \"4. Include SEO keywords and relevant data or sources.\"\n",
        "    ),\n",
        "    expected_output=\"A comprehensive content plan document \"\n",
        "        \"with an outline, audience analysis, \"\n",
        "        \"SEO keywords, and resources.\",\n",
        "    agent=planner,\n",
        ")"
      ],
      "metadata": {
        "id": "-7nVhcHtI2Oo"
      },
      "execution_count": null,
      "outputs": []
    },
    {
      "cell_type": "markdown",
      "source": [],
      "metadata": {
        "id": "8_5A0ApGI4u7"
      }
    },
    {
      "cell_type": "markdown",
      "source": [
        "### Task: Write"
      ],
      "metadata": {
        "id": "MOy4psY8BxLJ"
      }
    },
    {
      "cell_type": "code",
      "source": [
        "write = Task(\n",
        "    description=(\n",
        "        \"1. Use the content plan to craft a compelling \"\n",
        "            \"blog post on {topic}.\\n\"\n",
        "        \"2. Incorporate SEO keywords naturally.\\n\"\n",
        "\t\t\"3. Sections/Subtitles are properly named \"\n",
        "            \"in an engaging manner.\\n\"\n",
        "        \"4. Ensure the post is structured with an \"\n",
        "            \"engaging introduction, insightful body, \"\n",
        "            \"and a summarizing conclusion.\\n\"\n",
        "        \"5. Proofread for grammatical errors and \"\n",
        "            \"alignment with the brand's voice.\\n\"\n",
        "    ),\n",
        "    expected_output=\"A well-written blog post \"\n",
        "        \"in markdown format, ready for publication, \"\n",
        "        \"each section should have 2 or 3 paragraphs.\",\n",
        "    agent=writer,\n",
        ")"
      ],
      "metadata": {
        "id": "Q2wFTtJvBy_E"
      },
      "execution_count": null,
      "outputs": []
    },
    {
      "cell_type": "markdown",
      "source": [
        "### Task: Edit"
      ],
      "metadata": {
        "id": "namo0tSQB1vL"
      }
    },
    {
      "cell_type": "code",
      "source": [
        "edit = Task(\n",
        "    description=(\"Proofread the given blog post for \"\n",
        "                 \"grammatical errors and \"\n",
        "                 \"alignment with the brand's voice.\"),\n",
        "    expected_output=\"A well-written blog post in markdown format, \"\n",
        "                    \"ready for publication, \"\n",
        "                    \"each section should have 2 or 3 paragraphs.\",\n",
        "    agent=editor\n",
        ")"
      ],
      "metadata": {
        "id": "42W0X8lEB3kG"
      },
      "execution_count": null,
      "outputs": []
    },
    {
      "cell_type": "code",
      "source": [
        "publish = Task(\n",
        "    description=\"\"\"\n",
        "    Prepare and publish the edited article on Dev.to. You must:\n",
        "    1. Optimize the title for the developer audience\n",
        "    2. Format the content properly in Markdown\n",
        "    3. Select up to 4 relevant tags\n",
        "    4. Decide if the article should be part of a series\n",
        "    5. Save as a draft (published=False) initially\n",
        "\n",
        "    Use the publish_to_devto tool to submit the article to Dev.to.\n",
        "    \"\"\",\n",
        "    expected_output=\"\"\"\n",
        "    A confirmation message that the article has been successfully published to Dev.to as a draft,\n",
        "    including the title, tags selected, and URL of the article if available.\n",
        "\n",
        "    The message should include:\n",
        "    1. The optimized title used\n",
        "    2. The tags selected (max 4)\n",
        "    3. Whether it was added to a series\n",
        "    4. Confirmation of successful publication as a draft\n",
        "    \"\"\",\n",
        "    agent=publisher,\n",
        "    context=[edit]\n",
        ")\n"
      ],
      "metadata": {
        "id": "j5etoeRvUl03"
      },
      "execution_count": null,
      "outputs": []
    },
    {
      "cell_type": "markdown",
      "source": [
        "Creating the Crew\n",
        "Create your crew of Agents\n",
        "Pass the tasks to be performed by those agents.\n",
        "Note: For this simple example, the tasks will be performed sequentially (i.e they are dependent on each other), so the order of the task in the list matters.\n",
        "verbose=2 allows you to see all the logs of the execution."
      ],
      "metadata": {
        "id": "g0reygUrB7r7"
      }
    },
    {
      "cell_type": "code",
      "source": [
        "crew = Crew(\n",
        "    agents=[planner, writer, editor, publisher],\n",
        "    tasks=[plan, write, edit, publish],\n",
        "    verbose=True\n",
        ")"
      ],
      "metadata": {
        "id": "FVePY8sJB9_F"
      },
      "execution_count": null,
      "outputs": []
    },
    {
      "cell_type": "markdown",
      "source": [
        "Running the Crew\n",
        "Note: LLMs can provide different outputs for they same input, so what you get might be different than what you see in the video."
      ],
      "metadata": {
        "id": "-PjrKsSzB_8P"
      }
    },
    {
      "cell_type": "code",
      "source": [
        "result = crew.kickoff(inputs={\"topic\": \"AI agents\"})"
      ],
      "metadata": {
        "id": "QXaShTbsCCjO"
      },
      "execution_count": null,
      "outputs": []
    },
    {
      "cell_type": "markdown",
      "source": [
        "- Display the results of your execution as markdown in the notebook."
      ],
      "metadata": {
        "id": "ZUuPeZrOCEuQ"
      }
    },
    {
      "cell_type": "code",
      "source": [
        "from IPython.display import display, Markdown\n",
        "\n",
        "# Si result es un objeto CrewOutput, accede a su atributo 'raw'\n",
        "if hasattr(result, 'raw'):\n",
        "    display(Markdown(result.raw))\n",
        "else:\n",
        "    # Intenta extraer el contenido del markdown de la representación en string\n",
        "    content = str(result)\n",
        "    # Si el contenido comienza con marcadores de código markdown, elimínalos\n",
        "    if content.startswith(\"```markdown\"):\n",
        "        content = content[len(\"```markdown\"):].strip()\n",
        "    if content.endswith(\"```\"):\n",
        "        content = content[:-3].strip()\n",
        "\n",
        "    display(Markdown(content))"
      ],
      "metadata": {
        "id": "7vwSovz-CGU8"
      },
      "execution_count": null,
      "outputs": []
    },
    {
      "cell_type": "code",
      "source": [
        "print(result)"
      ],
      "metadata": {
        "id": "52XfpWBAQWxg"
      },
      "execution_count": null,
      "outputs": []
    },
    {
      "cell_type": "markdown",
      "source": [
        "Try it Yourself\n",
        "Pass in a topic of your choice and see what the agents come up with!"
      ],
      "metadata": {
        "id": "_pE-pZTlCJCi"
      }
    },
    {
      "cell_type": "code",
      "source": [
        "topic = \"\"\n",
        "result = crew.kickoff(inputs={\"topic\": topic})"
      ],
      "metadata": {
        "id": "fql0V5WzCLK5"
      },
      "execution_count": null,
      "outputs": []
    }
  ]
}